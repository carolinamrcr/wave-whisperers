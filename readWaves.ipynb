{
  "nbformat": 4,
  "nbformat_minor": 0,
  "metadata": {
    "colab": {
      "provenance": [],
      "authorship_tag": "ABX9TyPizLReKsaSWzg/nyaJXbhW",
      "include_colab_link": true
    },
    "kernelspec": {
      "name": "python3",
      "display_name": "Python 3"
    },
    "language_info": {
      "name": "python"
    }
  },
  "cells": [
    {
      "cell_type": "markdown",
      "metadata": {
        "id": "view-in-github",
        "colab_type": "text"
      },
      "source": [
        "<a href=\"https://colab.research.google.com/github/carolinamrcr/wave-whisperers/blob/main/readWaves.ipynb\" target=\"_parent\"><img src=\"https://colab.research.google.com/assets/colab-badge.svg\" alt=\"Open In Colab\"/></a>"
      ]
    },
    {
      "cell_type": "code",
      "execution_count": 1,
      "metadata": {
        "colab": {
          "base_uri": "https://localhost:8080/"
        },
        "id": "fZGuiuZG3wgG",
        "outputId": "54f37fb0-0dee-4c46-f6e6-d7f4d7eabf54"
      },
      "outputs": [
        {
          "output_type": "stream",
          "name": "stdout",
          "text": [
            "Collecting netCDF4\n",
            "  Downloading netCDF4-1.6.5-cp310-cp310-manylinux_2_17_x86_64.manylinux2014_x86_64.whl (5.5 MB)\n",
            "\u001b[2K     \u001b[90m━━━━━━━━━━━━━━━━━━━━━━━━━━━━━━━━━━━━━━━━\u001b[0m \u001b[32m5.5/5.5 MB\u001b[0m \u001b[31m13.6 MB/s\u001b[0m eta \u001b[36m0:00:00\u001b[0m\n",
            "\u001b[?25hCollecting cftime (from netCDF4)\n",
            "  Downloading cftime-1.6.3-cp310-cp310-manylinux_2_17_x86_64.manylinux2014_x86_64.whl (1.3 MB)\n",
            "\u001b[2K     \u001b[90m━━━━━━━━━━━━━━━━━━━━━━━━━━━━━━━━━━━━━━━━\u001b[0m \u001b[32m1.3/1.3 MB\u001b[0m \u001b[31m25.8 MB/s\u001b[0m eta \u001b[36m0:00:00\u001b[0m\n",
            "\u001b[?25hRequirement already satisfied: certifi in /usr/local/lib/python3.10/dist-packages (from netCDF4) (2023.7.22)\n",
            "Requirement already satisfied: numpy in /usr/local/lib/python3.10/dist-packages (from netCDF4) (1.23.5)\n",
            "Installing collected packages: cftime, netCDF4\n",
            "Successfully installed cftime-1.6.3 netCDF4-1.6.5\n"
          ]
        }
      ],
      "source": [
        "!pip install netCDF4\n"
      ]
    },
    {
      "cell_type": "code",
      "source": [
        "import netCDF4 as nc\n",
        "import pandas as pd\n",
        "import numpy as np\n",
        "from datetime import datetime, timedelta\n"
      ],
      "metadata": {
        "id": "4mrzCSXu3_u4"
      },
      "execution_count": 2,
      "outputs": []
    },
    {
      "cell_type": "code",
      "source": [
        "# Replace 'your_file.nc' with the actual file path\n",
        "file_path = r\"C:\\Users\\danie\\Downloads\\adaptor.mars.internal-1699466033.7943857-8139-12-ee4b546f-a3f3-4e82-9a0d-2b5504833709.nc\"\n",
        "\n",
        "# Open the NetCDF file\n",
        "nc_file = nc.Dataset(file_path, 'r')\n",
        "\n",
        "# Extract the 'longitude' and 'latitude' values\n",
        "longitude = -9.0\n",
        "latitude = 39\n",
        "\n",
        "# Find the index for the given longitude and latitude\n",
        "lon_idx = (np.abs(nc_file.variables['longitude'][:] - longitude)).argmin()\n",
        "lat_idx = (np.abs(nc_file.variables['latitude'][:] - latitude)).argmin()\n",
        "\n",
        "# Extract the time, mwp, pp1d, and swh variables for the specified longitude and latitude\n",
        "time_variable = nc_file.variables['time']\n",
        "base_time = datetime(1900, 1, 1)  # The base time for your dataset, modify if needed\n",
        "\n",
        "time_values = [base_time + timedelta(hours=int(t)) for t in time_variable[:]]\n",
        "\n",
        "mwd = nc_file.variables['mwd'][:, lat_idx, lon_idx]\n",
        "pp1d = nc_file.variables['pp1d'][:, lat_idx, lon_idx]\n",
        "swh = nc_file.variables['swh'][:, lat_idx, lon_idx]\n",
        "\n",
        "# Create a DataFrame\n",
        "data = {\n",
        "    'time': time_values,\n",
        "    'mwd': mwd,\n",
        "    'pp1d': pp1d,\n",
        "    'swh': swh\n",
        "}\n",
        "df = pd.DataFrame(data)\n",
        "\n",
        "# Close the file\n",
        "nc_file.close()\n",
        "\n",
        "# Print the DataFrame\n",
        "print(df)"
      ],
      "metadata": {
        "id": "8x7L7nga4GY3"
      },
      "execution_count": null,
      "outputs": []
    }
  ]
}