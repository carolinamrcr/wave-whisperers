{
 "cells": [
  {
   "cell_type": "code",
   "execution_count": 14,
   "id": "13c5a24f",
   "metadata": {},
   "outputs": [],
   "source": [
    "import pandas as pd\n",
    "import matplotlib.pyplot as plt\n"
   ]
  },
  {
   "cell_type": "code",
   "execution_count": 10,
   "id": "3efc2793",
   "metadata": {},
   "outputs": [],
   "source": [
    "# Read the CSV file\n",
    "df = pd.read_csv('CCFT_time_series.csv')\n",
    "\n",
    "# Assuming the date column is named \"date\"\n",
    "# You may need to adjust the column name based on your CSV structure\n",
    "date_column = 'dates'\n",
    "\n",
    "# Convert the \"date\" column to datetime format\n",
    "df[date_column] = pd.to_datetime(df[date_column])\n",
    "\n",
    "# Extract month and year\n",
    "df['month'] = df[date_column].dt.month\n",
    "df['year'] = df[date_column].dt.year\n",
    "\n",
    "# Create a set of all months in a year\n",
    "all_months = set(range(1, 13))\n",
    "\n",
    "# Get unique month-year combinations\n",
    "unique_months = set(zip(df['year'], df['month']))\n",
    "\n",
    "# Calculate missing months for each year\n",
    "missing_months_by_year = {}\n",
    "for year in range(min(df['year']), max(df['year']) + 1):\n",
    "    missing_months = all_months - set(month for y, month in unique_months if y == year)\n",
    "    missing_months_by_year[year] = missing_months\n",
    "\n",
    "months_with_data_by_year = {}\n",
    "months_with_data_count_by_year = {}\n",
    "for year in range(min(df['year']), max(df['year']) + 1):\n",
    "    months_with_data = set(month for y, month in unique_months if y == year)\n",
    "    months_with_data_by_year[year] = months_with_data\n",
    "    months_with_data_count_by_year[year] = len(months_with_data)\n",
    "\n"
   ]
  },
  {
   "cell_type": "code",
   "execution_count": 11,
   "id": "cf5d0a66",
   "metadata": {},
   "outputs": [
    {
     "data": {
      "text/plain": [
       "{1984: {1, 2, 3, 6, 11},\n",
       " 1985: {2, 3, 4, 12},\n",
       " 1986: {2, 4, 5, 6, 7, 8, 9},\n",
       " 1987: {2, 3, 10, 11},\n",
       " 1988: {1, 6, 7, 11},\n",
       " 1989: {1, 2, 3, 7, 12},\n",
       " 1990: {2},\n",
       " 1991: {9, 11},\n",
       " 1992: {10, 12},\n",
       " 1993: {1, 9, 12},\n",
       " 1994: {4, 10},\n",
       " 1995: {4, 10, 12},\n",
       " 1996: {1, 2, 3, 5},\n",
       " 1997: {2, 3, 5, 12},\n",
       " 1998: {1, 4, 5, 10},\n",
       " 1999: {1, 3, 11},\n",
       " 2000: {2},\n",
       " 2001: {1},\n",
       " 2002: set(),\n",
       " 2003: {5, 10, 11},\n",
       " 2004: {5},\n",
       " 2005: {4, 10},\n",
       " 2006: {1, 2, 11},\n",
       " 2007: {10, 12},\n",
       " 2008: {5, 11, 12},\n",
       " 2009: {5},\n",
       " 2010: {2, 3, 8, 9, 11},\n",
       " 2011: {1, 12},\n",
       " 2012: {1, 4, 5, 6, 8, 11},\n",
       " 2013: {2},\n",
       " 2014: {4},\n",
       " 2015: set(),\n",
       " 2016: set(),\n",
       " 2017: {2},\n",
       " 2018: {11},\n",
       " 2019: set(),\n",
       " 2020: {1, 12},\n",
       " 2021: set(),\n",
       " 2022: set()}"
      ]
     },
     "execution_count": 11,
     "metadata": {},
     "output_type": "execute_result"
    }
   ],
   "source": [
    "missing_months_by_year"
   ]
  },
  {
   "cell_type": "code",
   "execution_count": 12,
   "id": "13d29fb9",
   "metadata": {},
   "outputs": [
    {
     "data": {
      "text/plain": [
       "{1984: {4, 5, 7, 8, 9, 10, 12},\n",
       " 1985: {1, 5, 6, 7, 8, 9, 10, 11},\n",
       " 1986: {1, 3, 10, 11, 12},\n",
       " 1987: {1, 4, 5, 6, 7, 8, 9, 12},\n",
       " 1988: {2, 3, 4, 5, 8, 9, 10, 12},\n",
       " 1989: {4, 5, 6, 8, 9, 10, 11},\n",
       " 1990: {1, 3, 4, 5, 6, 7, 8, 9, 10, 11, 12},\n",
       " 1991: {1, 2, 3, 4, 5, 6, 7, 8, 10, 12},\n",
       " 1992: {1, 2, 3, 4, 5, 6, 7, 8, 9, 11},\n",
       " 1993: {2, 3, 4, 5, 6, 7, 8, 10, 11},\n",
       " 1994: {1, 2, 3, 5, 6, 7, 8, 9, 11, 12},\n",
       " 1995: {1, 2, 3, 5, 6, 7, 8, 9, 11},\n",
       " 1996: {4, 6, 7, 8, 9, 10, 11, 12},\n",
       " 1997: {1, 4, 6, 7, 8, 9, 10, 11},\n",
       " 1998: {2, 3, 6, 7, 8, 9, 11, 12},\n",
       " 1999: {2, 4, 5, 6, 7, 8, 9, 10, 12},\n",
       " 2000: {1, 3, 4, 5, 6, 7, 8, 9, 10, 11, 12},\n",
       " 2001: {2, 3, 4, 5, 6, 7, 8, 9, 10, 11, 12},\n",
       " 2002: {1, 2, 3, 4, 5, 6, 7, 8, 9, 10, 11, 12},\n",
       " 2003: {1, 2, 3, 4, 6, 7, 8, 9, 12},\n",
       " 2004: {1, 2, 3, 4, 6, 7, 8, 9, 10, 11, 12},\n",
       " 2005: {1, 2, 3, 5, 6, 7, 8, 9, 11, 12},\n",
       " 2006: {3, 4, 5, 6, 7, 8, 9, 10, 12},\n",
       " 2007: {1, 2, 3, 4, 5, 6, 7, 8, 9, 11},\n",
       " 2008: {1, 2, 3, 4, 6, 7, 8, 9, 10},\n",
       " 2009: {1, 2, 3, 4, 6, 7, 8, 9, 10, 11, 12},\n",
       " 2010: {1, 4, 5, 6, 7, 10, 12},\n",
       " 2011: {2, 3, 4, 5, 6, 7, 8, 9, 10, 11},\n",
       " 2012: {2, 3, 7, 9, 10, 12},\n",
       " 2013: {1, 3, 4, 5, 6, 7, 8, 9, 10, 11, 12},\n",
       " 2014: {1, 2, 3, 5, 6, 7, 8, 9, 10, 11, 12},\n",
       " 2015: {1, 2, 3, 4, 5, 6, 7, 8, 9, 10, 11, 12},\n",
       " 2016: {1, 2, 3, 4, 5, 6, 7, 8, 9, 10, 11, 12},\n",
       " 2017: {1, 3, 4, 5, 6, 7, 8, 9, 10, 11, 12},\n",
       " 2018: {1, 2, 3, 4, 5, 6, 7, 8, 9, 10, 12},\n",
       " 2019: {1, 2, 3, 4, 5, 6, 7, 8, 9, 10, 11, 12},\n",
       " 2020: {2, 3, 4, 5, 6, 7, 8, 9, 10, 11},\n",
       " 2021: {1, 2, 3, 4, 5, 6, 7, 8, 9, 10, 11, 12},\n",
       " 2022: {1, 2, 3, 4, 5, 6, 7, 8, 9, 10, 11, 12}}"
      ]
     },
     "execution_count": 12,
     "metadata": {},
     "output_type": "execute_result"
    }
   ],
   "source": [
    "months_with_data_by_year"
   ]
  },
  {
   "cell_type": "code",
   "execution_count": 13,
   "id": "80ecf50e",
   "metadata": {},
   "outputs": [
    {
     "data": {
      "text/plain": [
       "{1984: 7,\n",
       " 1985: 8,\n",
       " 1986: 5,\n",
       " 1987: 8,\n",
       " 1988: 8,\n",
       " 1989: 7,\n",
       " 1990: 11,\n",
       " 1991: 10,\n",
       " 1992: 10,\n",
       " 1993: 9,\n",
       " 1994: 10,\n",
       " 1995: 9,\n",
       " 1996: 8,\n",
       " 1997: 8,\n",
       " 1998: 8,\n",
       " 1999: 9,\n",
       " 2000: 11,\n",
       " 2001: 11,\n",
       " 2002: 12,\n",
       " 2003: 9,\n",
       " 2004: 11,\n",
       " 2005: 10,\n",
       " 2006: 9,\n",
       " 2007: 10,\n",
       " 2008: 9,\n",
       " 2009: 11,\n",
       " 2010: 7,\n",
       " 2011: 10,\n",
       " 2012: 6,\n",
       " 2013: 11,\n",
       " 2014: 11,\n",
       " 2015: 12,\n",
       " 2016: 12,\n",
       " 2017: 11,\n",
       " 2018: 11,\n",
       " 2019: 12,\n",
       " 2020: 10,\n",
       " 2021: 12,\n",
       " 2022: 12}"
      ]
     },
     "execution_count": 13,
     "metadata": {},
     "output_type": "execute_result"
    }
   ],
   "source": [
    "months_with_data_count_by_year"
   ]
  },
  {
   "cell_type": "code",
   "execution_count": 15,
   "id": "74804901",
   "metadata": {},
   "outputs": [
    {
     "data": {
      "image/png": "[encoded data removed]",
      "text/plain": [
       "<Figure size 432x288 with 1 Axes>"
      ]
     },
     "metadata": {
      "needs_background": "light"
     },
     "output_type": "display_data"
    }
   ],
   "source": [
    "# Create a bar plot\n",
    "plt.bar(months_with_data_count_by_year.keys(), months_with_data_count_by_year.values())\n",
    "plt.xlabel('Year')\n",
    "plt.ylabel('Months with Data Count')\n",
    "plt.title('Months with Data Count by Year')\n",
    "plt.show()"
   ]
  },
  {
   "cell_type": "code",
   "execution_count": null,
   "id": "71d2f8fe",
   "metadata": {},
   "outputs": [],
   "source": []
  }
 ],
 "metadata": {
  "kernelspec": {
   "display_name": "Python 3 (ipykernel)",
   "language": "python",
   "name": "python3"
  },
  "language_info": {
   "codemirror_mode": {
    "name": "ipython",
    "version": 3
   },
   "file_extension": ".py",
   "mimetype": "text/x-python",
   "name": "python",
   "nbconvert_exporter": "python",
   "pygments_lexer": "ipython3",
   "version": "3.9.7"
  }
 },
 "nbformat": 4,
 "nbformat_minor": 5
}
