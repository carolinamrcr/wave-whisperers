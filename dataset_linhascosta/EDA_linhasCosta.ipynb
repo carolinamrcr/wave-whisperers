{
 "cells": [
  {
   "cell_type": "code",
   "execution_count": 1,
   "id": "3efc2793",
   "metadata": {},
   "outputs": [
    {
     "name": "stderr",
     "output_type": "stream",
     "text": [
      "C:\\Users\\Utilizador\\anaconda3\\lib\\site-packages\\pandas\\core\\computation\\expressions.py:21: UserWarning: Pandas requires version '2.8.0' or newer of 'numexpr' (version '2.7.3' currently installed).\n",
      "  from pandas.core.computation.check import NUMEXPR_INSTALLED\n",
      "C:\\Users\\Utilizador\\anaconda3\\lib\\site-packages\\pandas\\core\\arrays\\masked.py:62: UserWarning: Pandas requires version '1.3.4' or newer of 'bottleneck' (version '1.3.2' currently installed).\n",
      "  from pandas.core import (\n"
     ]
    },
    {
     "data": {
      "text/plain": [
       "{1984: {1, 2, 3, 6, 11},\n",
       " 1985: {2, 3, 4, 12},\n",
       " 1986: {2, 4, 5, 6, 7, 8, 9},\n",
       " 1987: {2, 3, 10, 11},\n",
       " 1988: {1, 6, 7, 11},\n",
       " 1989: {1, 2, 3, 7, 12},\n",
       " 1990: {2},\n",
       " 1991: {9, 11},\n",
       " 1992: {10, 12},\n",
       " 1993: {1, 9, 12},\n",
       " 1994: {4, 10},\n",
       " 1995: {4, 10, 12},\n",
       " 1996: {1, 2, 3, 5},\n",
       " 1997: {2, 3, 5, 12},\n",
       " 1998: {1, 4, 5, 10},\n",
       " 1999: {1, 3, 11},\n",
       " 2000: {2},\n",
       " 2001: {1},\n",
       " 2002: set(),\n",
       " 2003: {5, 10, 11},\n",
       " 2004: {5},\n",
       " 2005: {4, 10},\n",
       " 2006: {1, 2, 11},\n",
       " 2007: {10, 12},\n",
       " 2008: {5, 11, 12},\n",
       " 2009: {5},\n",
       " 2010: {2, 3, 8, 9, 11},\n",
       " 2011: {1, 12},\n",
       " 2012: {1, 4, 5, 6, 8, 11},\n",
       " 2013: {2},\n",
       " 2014: {4},\n",
       " 2015: set(),\n",
       " 2016: set(),\n",
       " 2017: {2},\n",
       " 2018: {11},\n",
       " 2019: set(),\n",
       " 2020: {1, 12},\n",
       " 2021: set(),\n",
       " 2022: set()}"
      ]
     },
     "execution_count": 1,
     "metadata": {},
     "output_type": "execute_result"
    }
   ],
   "source": [
    "import pandas as pd\n",
    "\n",
    "# Read the CSV file\n",
    "df = pd.read_csv('CCFT_time_series.csv')\n",
    "\n",
    "# Assuming the date column is named \"date\"\n",
    "# You may need to adjust the column name based on your CSV structure\n",
    "date_column = 'dates'\n",
    "\n",
    "# Convert the \"date\" column to datetime format\n",
    "df[date_column] = pd.to_datetime(df[date_column])\n",
    "\n",
    "# Extract month and year\n",
    "df['month'] = df[date_column].dt.month\n",
    "df['year'] = df[date_column].dt.year\n",
    "\n",
    "# Create a set of all months in a year\n",
    "all_months = set(range(1, 13))\n",
    "\n",
    "# Get unique month-year combinations\n",
    "unique_months = set(zip(df['year'], df['month']))\n",
    "\n",
    "# Calculate missing months for each year\n",
    "missing_months_by_year = {}\n",
    "for year in range(min(df['year']), max(df['year']) + 1):\n",
    "    missing_months = all_months - set(month for y, month in unique_months if y == year)\n",
    "    missing_months_by_year[year] = missing_months\n",
    "\n",
    "\n",
    "missing_months_by_year\n"
   ]
  },
  {
   "cell_type": "code",
   "execution_count": null,
   "id": "cf5d0a66",
   "metadata": {},
   "outputs": [],
   "source": []
  }
 ],
 "metadata": {
  "kernelspec": {
   "display_name": "Python 3 (ipykernel)",
   "language": "python",
   "name": "python3"
  },
  "language_info": {
   "codemirror_mode": {
    "name": "ipython",
    "version": 3
   },
   "file_extension": ".py",
   "mimetype": "text/x-python",
   "name": "python",
   "nbconvert_exporter": "python",
   "pygments_lexer": "ipython3",
   "version": "3.9.7"
  }
 },
 "nbformat": 4,
 "nbformat_minor": 5
}
