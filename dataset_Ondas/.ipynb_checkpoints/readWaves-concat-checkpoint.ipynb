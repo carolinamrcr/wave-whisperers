{
 "cells": [
  {
   "cell_type": "code",
   "execution_count": 1,
   "id": "f411e388",
   "metadata": {},
   "outputs": [
    {
     "name": "stdout",
     "output_type": "stream",
     "text": [
      "Requirement already satisfied: xarray in c:\\users\\utilizador\\anaconda3\\lib\\site-packages (2023.11.0)"
     ]
    },
    {
     "name": "stderr",
     "output_type": "stream",
     "text": [
      "WARNING: Ignoring invalid distribution -illow (c:\\users\\utilizador\\anaconda3\\lib\\site-packages)\n",
      "WARNING: Ignoring invalid distribution -illow (c:\\users\\utilizador\\anaconda3\\lib\\site-packages)\n"
     ]
    },
    {
     "name": "stdout",
     "output_type": "stream",
     "text": [
      "\n",
      "Requirement already satisfied: numpy>=1.22 in c:\\users\\utilizador\\anaconda3\\lib\\site-packages (from xarray) (1.26.2)\n",
      "Requirement already satisfied: packaging>=21.3 in c:\\users\\utilizador\\anaconda3\\lib\\site-packages (from xarray) (23.2)\n",
      "Requirement already satisfied: pandas>=1.4 in c:\\users\\utilizador\\anaconda3\\lib\\site-packages (from xarray) (2.1.3)\n",
      "Requirement already satisfied: python-dateutil>=2.8.2 in c:\\users\\utilizador\\anaconda3\\lib\\site-packages (from pandas>=1.4->xarray) (2.8.2)\n",
      "Requirement already satisfied: pytz>=2020.1 in c:\\users\\utilizador\\anaconda3\\lib\\site-packages (from pandas>=1.4->xarray) (2021.3)\n",
      "Requirement already satisfied: tzdata>=2022.1 in c:\\users\\utilizador\\anaconda3\\lib\\site-packages (from pandas>=1.4->xarray) (2023.3)\n",
      "Requirement already satisfied: six>=1.5 in c:\\users\\utilizador\\anaconda3\\lib\\site-packages (from python-dateutil>=2.8.2->pandas>=1.4->xarray) (1.16.0)\n"
     ]
    }
   ],
   "source": [
    "!pip install xarray"
   ]
  },
  {
   "cell_type": "code",
   "execution_count": 3,
   "id": "fb3164ef",
   "metadata": {},
   "outputs": [],
   "source": [
    "import netCDF4 as nc\n",
    "import glob\n"
   ]
  },
  {
   "cell_type": "code",
   "execution_count": null,
   "id": "c2e69de3",
   "metadata": {},
   "outputs": [],
   "source": []
  },
  {
   "cell_type": "code",
   "execution_count": null,
   "id": "29be1d5b",
   "metadata": {},
   "outputs": [],
   "source": []
  }
 ],
 "metadata": {
  "kernelspec": {
   "display_name": "Python 3 (ipykernel)",
   "language": "python",
   "name": "python3"
  },
  "language_info": {
   "codemirror_mode": {
    "name": "ipython",
    "version": 3
   },
   "file_extension": ".py",
   "mimetype": "text/x-python",
   "name": "python",
   "nbconvert_exporter": "python",
   "pygments_lexer": "ipython3",
   "version": "3.9.7"
  }
 },
 "nbformat": 4,
 "nbformat_minor": 5
}
