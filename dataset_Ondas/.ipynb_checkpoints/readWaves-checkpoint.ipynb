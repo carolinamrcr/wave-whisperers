{
 "cells": [
  {
   "cell_type": "code",
   "execution_count": 4,
   "id": "d173a2b0",
   "metadata": {},
   "outputs": [
    {
     "ename": "ModuleNotFoundError",
     "evalue": "No module named 'netCDF4'",
     "output_type": "error",
     "traceback": [
      "\u001b[1;31m---------------------------------------------------------------------------\u001b[0m",
      "\u001b[1;31mModuleNotFoundError\u001b[0m                       Traceback (most recent call last)",
      "\u001b[1;32mC:\\Users\\UTILIZ~1\\AppData\\Local\\Temp/ipykernel_24040/2697141709.py\u001b[0m in \u001b[0;36m<module>\u001b[1;34m\u001b[0m\n\u001b[1;32m----> 1\u001b[1;33m \u001b[1;32mimport\u001b[0m \u001b[0mnetCDF4\u001b[0m \u001b[1;32mas\u001b[0m \u001b[0mnc\u001b[0m\u001b[1;33m\u001b[0m\u001b[1;33m\u001b[0m\u001b[0m\n\u001b[0m\u001b[0;32m      2\u001b[0m \u001b[1;32mimport\u001b[0m \u001b[0mpandas\u001b[0m \u001b[1;32mas\u001b[0m \u001b[0mpd\u001b[0m\u001b[1;33m\u001b[0m\u001b[1;33m\u001b[0m\u001b[0m\n\u001b[0;32m      3\u001b[0m \u001b[1;32mimport\u001b[0m \u001b[0mnumpy\u001b[0m \u001b[1;32mas\u001b[0m \u001b[0mnp\u001b[0m\u001b[1;33m\u001b[0m\u001b[1;33m\u001b[0m\u001b[0m\n\u001b[0;32m      4\u001b[0m \u001b[1;32mfrom\u001b[0m \u001b[0mdatetime\u001b[0m \u001b[1;32mimport\u001b[0m \u001b[0mdatetime\u001b[0m\u001b[1;33m,\u001b[0m \u001b[0mtimedelta\u001b[0m\u001b[1;33m\u001b[0m\u001b[1;33m\u001b[0m\u001b[0m\n",
      "\u001b[1;31mModuleNotFoundError\u001b[0m: No module named 'netCDF4'"
     ]
    }
   ],
   "source": [
    "import netCDF4 as nc\n",
    "import pandas as pd\n",
    "import numpy as np\n",
    "from datetime import datetime, timedelta"
   ]
  },
  {
   "cell_type": "code",
   "execution_count": null,
   "id": "c2e69de3",
   "metadata": {},
   "outputs": [],
   "source": [
    "import netCDF4 as nc\n",
    "import pandas as pd\n",
    "import numpy as np\n",
    "from datetime import datetime, timedelta\n",
    "\n",
    "# Replace 'your_file.nc' with the actual file path\n",
    "file_path = r\"C:\\Users\\danie\\Downloads\\adaptor.mars.internal-1699466033.7943857-8139-12-ee4b546f-a3f3-4e82-9a0d-2b5504833709.nc\"\n",
    "\n",
    "# Open the NetCDF file\n",
    "nc_file = nc.Dataset(file_path, 'r')\n",
    "\n",
    "# Extract the 'longitude' and 'latitude' values\n",
    "longitude = -9.0\n",
    "latitude = 39\n",
    "\n",
    "# Find the index for the given longitude and latitude\n",
    "lon_idx = (np.abs(nc_file.variables['longitude'][:] - longitude)).argmin()\n",
    "lat_idx = (np.abs(nc_file.variables['latitude'][:] - latitude)).argmin()\n",
    "\n",
    "# Extract the time, mwp, pp1d, and swh variables for the specified longitude and latitude\n",
    "time_variable = nc_file.variables['time']\n",
    "base_time = datetime(1900, 1, 1)  # The base time for your dataset, modify if needed\n",
    "\n",
    "time_values = [base_time + timedelta(hours=int(t)) for t in time_variable[:]]\n",
    "\n",
    "mwd = nc_file.variables['mwd'][:, lat_idx, lon_idx]\n",
    "pp1d = nc_file.variables['pp1d'][:, lat_idx, lon_idx]\n",
    "swh = nc_file.variables['swh'][:, lat_idx, lon_idx]\n",
    "\n",
    "# Create a DataFrame\n",
    "data = {\n",
    "    'time': time_values,\n",
    "    'mwd': mwd,\n",
    "    'pp1d': pp1d,\n",
    "    'swh': swh\n",
    "}\n",
    "df = pd.DataFrame(data)\n",
    "\n",
    "# Close the file\n",
    "nc_file.close()\n",
    "\n",
    "# Print the DataFrame\n",
    "print(df)"
   ]
  },
  {
   "cell_type": "code",
   "execution_count": null,
   "id": "4e9d8fc2",
   "metadata": {},
   "outputs": [],
   "source": []
  },
  {
   "cell_type": "code",
   "execution_count": null,
   "id": "c77e2501",
   "metadata": {},
   "outputs": [],
   "source": []
  }
 ],
 "metadata": {
  "kernelspec": {
   "display_name": "Python 3 (ipykernel)",
   "language": "python",
   "name": "python3"
  },
  "language_info": {
   "codemirror_mode": {
    "name": "ipython",
    "version": 3
   },
   "file_extension": ".py",
   "mimetype": "text/x-python",
   "name": "python",
   "nbconvert_exporter": "python",
   "pygments_lexer": "ipython3",
   "version": "3.9.7"
  }
 },
 "nbformat": 4,
 "nbformat_minor": 5
}
