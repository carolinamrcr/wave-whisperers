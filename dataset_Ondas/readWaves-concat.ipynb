{
 "cells": [
  {
   "cell_type": "code",
   "execution_count": 1,
   "id": "f411e388",
   "metadata": {},
   "outputs": [
    {
     "name": "stdout",
     "output_type": "stream",
     "text": [
      "Requirement already satisfied: xarray in c:\\users\\danie\\anaconda3\\lib\\site-packages (2022.11.0)\n",
      "Requirement already satisfied: packaging>=21.0 in c:\\users\\danie\\anaconda3\\lib\\site-packages (from xarray) (22.0)\n",
      "Requirement already satisfied: numpy>=1.20 in c:\\users\\danie\\anaconda3\\lib\\site-packages (from xarray) (1.23.5)\n",
      "Requirement already satisfied: pandas>=1.3 in c:\\users\\danie\\anaconda3\\lib\\site-packages (from xarray) (2.1.3)\n",
      "Requirement already satisfied: pytz>=2020.1 in c:\\users\\danie\\anaconda3\\lib\\site-packages (from pandas>=1.3->xarray) (2022.7)\n",
      "Requirement already satisfied: tzdata>=2022.1 in c:\\users\\danie\\anaconda3\\lib\\site-packages (from pandas>=1.3->xarray) (2023.3)\n",
      "Requirement already satisfied: python-dateutil>=2.8.2 in c:\\users\\danie\\anaconda3\\lib\\site-packages (from pandas>=1.3->xarray) (2.8.2)\n",
      "Requirement already satisfied: six>=1.5 in c:\\users\\danie\\anaconda3\\lib\\site-packages (from python-dateutil>=2.8.2->pandas>=1.3->xarray) (1.16.0)\n"
     ]
    }
   ],
   "source": [
    "!pip install xarray"
   ]
  },
  {
   "cell_type": "code",
   "execution_count": 4,
   "id": "fb3164ef",
   "metadata": {},
   "outputs": [],
   "source": [
    "import xarray as xr\n",
    "import glob"
   ]
  },
  {
   "cell_type": "code",
   "execution_count": 6,
   "id": "c2e69de3",
   "metadata": {},
   "outputs": [
    {
     "name": "stderr",
     "output_type": "stream",
     "text": [
      "c:\\Users\\danie\\anaconda3\\lib\\site-packages\\xarray\\core\\concat.py:527: FutureWarning: unique with argument that is not not a Series, Index, ExtensionArray, or np.ndarray is deprecated and will raise in a future version.\n",
      "  common_dims = tuple(pd.unique([d for v in vars for d in v.dims]))\n"
     ]
    }
   ],
   "source": [
    "# List all the nc files in your directory\n",
    "nc_files = glob.glob('raw_data/*.nc')\n",
    "\n",
    "# Load all the nc files into a list of xarray datasets\n",
    "datasets = [xr.open_dataset(file) for file in nc_files]\n",
    "\n",
    "# Concatenate the datasets along a specified dimension (e.g., time)\n",
    "concatenated_dataset = xr.concat(datasets, dim='time')  # Adjust 'time' to your specific dimension\n",
    "\n",
    "# Save the concatenated dataset to a new NetCDF file\n",
    "concatenated_dataset.to_netcdf('concatenated_file.nc')\n"
   ]
  },
  {
   "cell_type": "code",
   "execution_count": null,
   "id": "29be1d5b",
   "metadata": {},
   "outputs": [],
   "source": []
  }
 ],
 "metadata": {
  "kernelspec": {
   "display_name": "Python 3 (ipykernel)",
   "language": "python",
   "name": "python3"
  },
  "language_info": {
   "codemirror_mode": {
    "name": "ipython",
    "version": 3
   },
   "file_extension": ".py",
   "mimetype": "text/x-python",
   "name": "python",
   "nbconvert_exporter": "python",
   "pygments_lexer": "ipython3",
   "version": "3.11.4"
  }
 },
 "nbformat": 4,
 "nbformat_minor": 5
}
